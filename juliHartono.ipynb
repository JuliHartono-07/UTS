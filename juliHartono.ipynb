{
 "cells": [
  {
   "cell_type": "code",
   "execution_count": 1,
   "id": "492246d0-46ba-4a0f-82a0-c53fa76df60f",
   "metadata": {},
   "outputs": [],
   "source": [
    "import pandas as pd\n",
    "import numpy as np"
   ]
  },
  {
   "cell_type": "code",
   "execution_count": 2,
   "id": "45f940c6-991d-4085-88fe-34d3696f25cb",
   "metadata": {},
   "outputs": [],
   "source": [
    "df1= pd.DataFrame({'C1':['3','4','10','4','2'],\n",
    "                     'C2':['4','4','5','4','3'],\n",
    "                     'C3':['5','3','7.5','3','1'],\n",
    "                     'C4':['4','4','4','5','3'],\n",
    "                     'C5':['3','3','25','4','0'],},\n",
    "                     index=[0,1,2,3,4])"
   ]
  },
  {
   "cell_type": "code",
   "execution_count": 8,
   "id": "e2c3a7ff-1d21-41ad-9238-d82d60200dfb",
   "metadata": {},
   "outputs": [
    {
     "data": {
      "text/html": [
       "<div>\n",
       "<style scoped>\n",
       "    .dataframe tbody tr th:only-of-type {\n",
       "        vertical-align: middle;\n",
       "    }\n",
       "\n",
       "    .dataframe tbody tr th {\n",
       "        vertical-align: top;\n",
       "    }\n",
       "\n",
       "    .dataframe thead th {\n",
       "        text-align: right;\n",
       "    }\n",
       "</style>\n",
       "<table border=\"1\" class=\"dataframe\">\n",
       "  <thead>\n",
       "    <tr style=\"text-align: right;\">\n",
       "      <th></th>\n",
       "      <th>C1</th>\n",
       "      <th>C2</th>\n",
       "      <th>C3</th>\n",
       "      <th>C4</th>\n",
       "      <th>C5</th>\n",
       "    </tr>\n",
       "  </thead>\n",
       "  <tbody>\n",
       "    <tr>\n",
       "      <th>0</th>\n",
       "      <td>3</td>\n",
       "      <td>4</td>\n",
       "      <td>5</td>\n",
       "      <td>4</td>\n",
       "      <td>3</td>\n",
       "    </tr>\n",
       "    <tr>\n",
       "      <th>1</th>\n",
       "      <td>4</td>\n",
       "      <td>4</td>\n",
       "      <td>3</td>\n",
       "      <td>4</td>\n",
       "      <td>3</td>\n",
       "    </tr>\n",
       "    <tr>\n",
       "      <th>2</th>\n",
       "      <td>10</td>\n",
       "      <td>5</td>\n",
       "      <td>7.5</td>\n",
       "      <td>4</td>\n",
       "      <td>25</td>\n",
       "    </tr>\n",
       "    <tr>\n",
       "      <th>3</th>\n",
       "      <td>4</td>\n",
       "      <td>4</td>\n",
       "      <td>3</td>\n",
       "      <td>5</td>\n",
       "      <td>4</td>\n",
       "    </tr>\n",
       "    <tr>\n",
       "      <th>4</th>\n",
       "      <td>2</td>\n",
       "      <td>3</td>\n",
       "      <td>1</td>\n",
       "      <td>3</td>\n",
       "      <td>0</td>\n",
       "    </tr>\n",
       "  </tbody>\n",
       "</table>\n",
       "</div>"
      ],
      "text/plain": [
       "   C1 C2   C3 C4  C5\n",
       "0   3  4    5  4   3\n",
       "1   4  4    3  4   3\n",
       "2  10  5  7.5  4  25\n",
       "3   4  4    3  5   4\n",
       "4   2  3    1  3   0"
      ]
     },
     "execution_count": 8,
     "metadata": {},
     "output_type": "execute_result"
    }
   ],
   "source": [
    "df1"
   ]
  },
  {
   "cell_type": "code",
   "execution_count": 12,
   "id": "b5931fe0-2acc-492e-bb34-e90dc899c054",
   "metadata": {},
   "outputs": [
    {
     "data": {
      "text/plain": [
       "array([['3', '4', '5', '4', '3'],\n",
       "       ['4', '4', '3', '4', '3'],\n",
       "       ['10', '5', '7.5', '4', '25'],\n",
       "       ['4', '4', '3', '5', '4'],\n",
       "       ['2', '3', '1', '3', '0']], dtype=object)"
      ]
     },
     "execution_count": 12,
     "metadata": {},
     "output_type": "execute_result"
    }
   ],
   "source": [
    "df1.values"
   ]
  },
  {
   "cell_type": "code",
   "execution_count": 13,
   "id": "82029ca1-a6f9-41c2-808d-750d7b6ecded",
   "metadata": {},
   "outputs": [],
   "source": [
    "df2 = pd.DataFrame({'C1':['3'],\n",
    "                     'C2':['5'],\n",
    "                     'C3':['3'],\n",
    "                     'C4':['5'],\n",
    "                     'C5':['4'],},\n",
    "                     index=[0])"
   ]
  },
  {
   "cell_type": "code",
   "execution_count": 14,
   "id": "d87f0006-f474-4564-ab62-6fb275e01ef9",
   "metadata": {},
   "outputs": [
    {
     "data": {
      "text/html": [
       "<div>\n",
       "<style scoped>\n",
       "    .dataframe tbody tr th:only-of-type {\n",
       "        vertical-align: middle;\n",
       "    }\n",
       "\n",
       "    .dataframe tbody tr th {\n",
       "        vertical-align: top;\n",
       "    }\n",
       "\n",
       "    .dataframe thead th {\n",
       "        text-align: right;\n",
       "    }\n",
       "</style>\n",
       "<table border=\"1\" class=\"dataframe\">\n",
       "  <thead>\n",
       "    <tr style=\"text-align: right;\">\n",
       "      <th></th>\n",
       "      <th>C1</th>\n",
       "      <th>C2</th>\n",
       "      <th>C3</th>\n",
       "      <th>C4</th>\n",
       "      <th>C5</th>\n",
       "    </tr>\n",
       "  </thead>\n",
       "  <tbody>\n",
       "    <tr>\n",
       "      <th>0</th>\n",
       "      <td>3</td>\n",
       "      <td>5</td>\n",
       "      <td>3</td>\n",
       "      <td>5</td>\n",
       "      <td>4</td>\n",
       "    </tr>\n",
       "  </tbody>\n",
       "</table>\n",
       "</div>"
      ],
      "text/plain": [
       "  C1 C2 C3 C4 C5\n",
       "0  3  5  3  5  4"
      ]
     },
     "execution_count": 14,
     "metadata": {},
     "output_type": "execute_result"
    }
   ],
   "source": [
    "df2"
   ]
  },
  {
   "cell_type": "code",
   "execution_count": 15,
   "id": "2b46b714-d61e-4b9e-a8c6-2bca32926f1c",
   "metadata": {},
   "outputs": [
    {
     "data": {
      "text/plain": [
       "array([['3', '5', '3', '5', '4']], dtype=object)"
      ]
     },
     "execution_count": 15,
     "metadata": {},
     "output_type": "execute_result"
    }
   ],
   "source": [
    "df2.values"
   ]
  },
  {
   "cell_type": "code",
   "execution_count": 32,
   "id": "e9f69727-fe7e-4509-abbb-8bfc9030e75e",
   "metadata": {},
   "outputs": [
    {
     "data": {
      "text/html": [
       "<div>\n",
       "<style scoped>\n",
       "    .dataframe tbody tr th:only-of-type {\n",
       "        vertical-align: middle;\n",
       "    }\n",
       "\n",
       "    .dataframe tbody tr th {\n",
       "        vertical-align: top;\n",
       "    }\n",
       "\n",
       "    .dataframe thead th {\n",
       "        text-align: right;\n",
       "    }\n",
       "</style>\n",
       "<table border=\"1\" class=\"dataframe\">\n",
       "  <thead>\n",
       "    <tr style=\"text-align: right;\">\n",
       "      <th></th>\n",
       "      <th>C1</th>\n",
       "      <th>C2</th>\n",
       "      <th>C3</th>\n",
       "      <th>C4</th>\n",
       "      <th>C5</th>\n",
       "    </tr>\n",
       "  </thead>\n",
       "  <tbody>\n",
       "    <tr>\n",
       "      <th>0</th>\n",
       "      <td>3</td>\n",
       "      <td>4</td>\n",
       "      <td>5</td>\n",
       "      <td>4</td>\n",
       "      <td>3</td>\n",
       "    </tr>\n",
       "    <tr>\n",
       "      <th>1</th>\n",
       "      <td>4</td>\n",
       "      <td>4</td>\n",
       "      <td>3</td>\n",
       "      <td>4</td>\n",
       "      <td>3</td>\n",
       "    </tr>\n",
       "    <tr>\n",
       "      <th>2</th>\n",
       "      <td>10</td>\n",
       "      <td>5</td>\n",
       "      <td>7.5</td>\n",
       "      <td>4</td>\n",
       "      <td>25</td>\n",
       "    </tr>\n",
       "    <tr>\n",
       "      <th>3</th>\n",
       "      <td>4</td>\n",
       "      <td>4</td>\n",
       "      <td>3</td>\n",
       "      <td>5</td>\n",
       "      <td>4</td>\n",
       "    </tr>\n",
       "    <tr>\n",
       "      <th>4</th>\n",
       "      <td>2</td>\n",
       "      <td>3</td>\n",
       "      <td>1</td>\n",
       "      <td>3</td>\n",
       "      <td>0</td>\n",
       "    </tr>\n",
       "  </tbody>\n",
       "</table>\n",
       "</div>"
      ],
      "text/plain": [
       "   C1 C2   C3 C4  C5\n",
       "0   3  4    5  4   3\n",
       "1   4  4    3  4   3\n",
       "2  10  5  7.5  4  25\n",
       "3   4  4    3  5   4\n",
       "4   2  3    1  3   0"
      ]
     },
     "execution_count": 32,
     "metadata": {},
     "output_type": "execute_result"
    }
   ],
   "source": [
    "df1\n"
   ]
  },
  {
   "cell_type": "code",
   "execution_count": 48,
   "id": "66ad6370-0db3-4953-a6a6-01586125f9d7",
   "metadata": {},
   "outputs": [
    {
     "data": {
      "text/plain": [
       "C1      4\n",
       "C2      5\n",
       "C3    7.5\n",
       "C4      5\n",
       "C5      4\n",
       "dtype: object"
      ]
     },
     "execution_count": 48,
     "metadata": {},
     "output_type": "execute_result"
    }
   ],
   "source": [
    "col_max = df1.max(axis=0)\n",
    "col_max"
   ]
  },
  {
   "cell_type": "code",
   "execution_count": 49,
   "id": "e1fa0fa8-6cf3-4ce3-a604-c1d6d5c1c13d",
   "metadata": {},
   "outputs": [
    {
     "data": {
      "text/plain": [
       "C1    10\n",
       "C2     3\n",
       "C3     1\n",
       "C4     3\n",
       "C5     0\n",
       "dtype: object"
      ]
     },
     "execution_count": 49,
     "metadata": {},
     "output_type": "execute_result"
    }
   ],
   "source": [
    "col_min = df1.min(axis=0)\n",
    "\n",
    "col_min"
   ]
  },
  {
   "cell_type": "code",
   "execution_count": 43,
   "id": "3f0d41fa-d8aa-4883-b15b-b4ee4f71275b",
   "metadata": {},
   "outputs": [
    {
     "data": {
      "text/plain": [
       "C1      4\n",
       "C2      5\n",
       "C3    7.5\n",
       "C4      5\n",
       "C5      4\n",
       "dtype: object"
      ]
     },
     "execution_count": 43,
     "metadata": {},
     "output_type": "execute_result"
    }
   ],
   "source": [
    "raw_max=df1.max(axis=0)\n",
    "raw_max"
   ]
  },
  {
   "cell_type": "code",
   "execution_count": 51,
   "id": "9644d3d3-b430-4f0c-95be-e9cf8ba9cab9",
   "metadata": {},
   "outputs": [
    {
     "data": {
      "text/plain": [
       "C1      4\n",
       "C2      5\n",
       "C3    7.5\n",
       "C4      5\n",
       "C5      4\n",
       "dtype: object"
      ]
     },
     "execution_count": 51,
     "metadata": {},
     "output_type": "execute_result"
    }
   ],
   "source": [
    "df1.max()"
   ]
  },
  {
   "cell_type": "code",
   "execution_count": 52,
   "id": "660f02e6-5cf9-4bb7-932e-63490986fb54",
   "metadata": {},
   "outputs": [
    {
     "data": {
      "text/plain": [
       "C1    68208.4000\n",
       "C2     8908.6000\n",
       "C3      107.5062\n",
       "C4     8890.6000\n",
       "C5    66508.0000\n",
       "dtype: float64"
      ]
     },
     "execution_count": 52,
     "metadata": {},
     "output_type": "execute_result"
    }
   ],
   "source": [
    "df1.mean()"
   ]
  },
  {
   "cell_type": "code",
   "execution_count": 53,
   "id": "054ece08-092e-4a0f-8eb6-b02daccf2a00",
   "metadata": {},
   "outputs": [
    {
     "data": {
      "text/plain": [
       "C1    4.0\n",
       "C2    4.0\n",
       "C3    3.0\n",
       "C4    4.0\n",
       "C5    3.0\n",
       "dtype: float64"
      ]
     },
     "execution_count": 53,
     "metadata": {},
     "output_type": "execute_result"
    }
   ],
   "source": [
    "df1.median()"
   ]
  },
  {
   "cell_type": "code",
   "execution_count": 71,
   "id": "00e9e7e9-ccfe-447d-bde3-8ac0d5616eb1",
   "metadata": {},
   "outputs": [],
   "source": [
    "df1 =pd.DataFrame(np.random.rand(5,5), columns=('C1','C2','C3','C4','C5'))\n"
   ]
  },
  {
   "cell_type": "code",
   "execution_count": 72,
   "id": "5726d73e-d0dd-4e74-b6d4-91e411808ff5",
   "metadata": {},
   "outputs": [
    {
     "data": {
      "text/html": [
       "<div>\n",
       "<style scoped>\n",
       "    .dataframe tbody tr th:only-of-type {\n",
       "        vertical-align: middle;\n",
       "    }\n",
       "\n",
       "    .dataframe tbody tr th {\n",
       "        vertical-align: top;\n",
       "    }\n",
       "\n",
       "    .dataframe thead th {\n",
       "        text-align: right;\n",
       "    }\n",
       "</style>\n",
       "<table border=\"1\" class=\"dataframe\">\n",
       "  <thead>\n",
       "    <tr style=\"text-align: right;\">\n",
       "      <th></th>\n",
       "      <th>C1</th>\n",
       "      <th>C2</th>\n",
       "      <th>C3</th>\n",
       "      <th>C4</th>\n",
       "      <th>C5</th>\n",
       "    </tr>\n",
       "  </thead>\n",
       "  <tbody>\n",
       "    <tr>\n",
       "      <th>count</th>\n",
       "      <td>5.000000</td>\n",
       "      <td>5.000000</td>\n",
       "      <td>5.000000</td>\n",
       "      <td>5.000000</td>\n",
       "      <td>5.000000</td>\n",
       "    </tr>\n",
       "    <tr>\n",
       "      <th>mean</th>\n",
       "      <td>0.280366</td>\n",
       "      <td>0.341792</td>\n",
       "      <td>0.665783</td>\n",
       "      <td>0.496323</td>\n",
       "      <td>0.644629</td>\n",
       "    </tr>\n",
       "    <tr>\n",
       "      <th>std</th>\n",
       "      <td>0.348858</td>\n",
       "      <td>0.299108</td>\n",
       "      <td>0.220407</td>\n",
       "      <td>0.289286</td>\n",
       "      <td>0.250567</td>\n",
       "    </tr>\n",
       "    <tr>\n",
       "      <th>min</th>\n",
       "      <td>0.001928</td>\n",
       "      <td>0.039217</td>\n",
       "      <td>0.413983</td>\n",
       "      <td>0.172216</td>\n",
       "      <td>0.207540</td>\n",
       "    </tr>\n",
       "    <tr>\n",
       "      <th>25%</th>\n",
       "      <td>0.063759</td>\n",
       "      <td>0.145993</td>\n",
       "      <td>0.442223</td>\n",
       "      <td>0.313447</td>\n",
       "      <td>0.670562</td>\n",
       "    </tr>\n",
       "    <tr>\n",
       "      <th>50%</th>\n",
       "      <td>0.140664</td>\n",
       "      <td>0.209772</td>\n",
       "      <td>0.766416</td>\n",
       "      <td>0.484250</td>\n",
       "      <td>0.746859</td>\n",
       "    </tr>\n",
       "    <tr>\n",
       "      <th>75%</th>\n",
       "      <td>0.331848</td>\n",
       "      <td>0.580023</td>\n",
       "      <td>0.835866</td>\n",
       "      <td>0.580634</td>\n",
       "      <td>0.774122</td>\n",
       "    </tr>\n",
       "    <tr>\n",
       "      <th>max</th>\n",
       "      <td>0.863628</td>\n",
       "      <td>0.733953</td>\n",
       "      <td>0.870427</td>\n",
       "      <td>0.931068</td>\n",
       "      <td>0.824064</td>\n",
       "    </tr>\n",
       "  </tbody>\n",
       "</table>\n",
       "</div>"
      ],
      "text/plain": [
       "             C1        C2        C3        C4        C5\n",
       "count  5.000000  5.000000  5.000000  5.000000  5.000000\n",
       "mean   0.280366  0.341792  0.665783  0.496323  0.644629\n",
       "std    0.348858  0.299108  0.220407  0.289286  0.250567\n",
       "min    0.001928  0.039217  0.413983  0.172216  0.207540\n",
       "25%    0.063759  0.145993  0.442223  0.313447  0.670562\n",
       "50%    0.140664  0.209772  0.766416  0.484250  0.746859\n",
       "75%    0.331848  0.580023  0.835866  0.580634  0.774122\n",
       "max    0.863628  0.733953  0.870427  0.931068  0.824064"
      ]
     },
     "execution_count": 72,
     "metadata": {},
     "output_type": "execute_result"
    }
   ],
   "source": [
    "df1.describe()"
   ]
  },
  {
   "cell_type": "code",
   "execution_count": null,
   "id": "2b94d93f-8afb-4f66-865f-3366f2add4f6",
   "metadata": {},
   "outputs": [],
   "source": []
  },
  {
   "cell_type": "code",
   "execution_count": null,
   "id": "1e88b44c-0323-4eb7-a405-f374441141d3",
   "metadata": {},
   "outputs": [],
   "source": []
  },
  {
   "cell_type": "code",
   "execution_count": null,
   "id": "cae245c8-616a-4896-a3d5-e7d19b37adc5",
   "metadata": {},
   "outputs": [],
   "source": []
  },
  {
   "cell_type": "code",
   "execution_count": null,
   "id": "641cdb77-a069-45bf-ad4b-d457dd0c2217",
   "metadata": {},
   "outputs": [],
   "source": []
  }
 ],
 "metadata": {
  "kernelspec": {
   "display_name": "Python 3",
   "language": "python",
   "name": "python3"
  },
  "language_info": {
   "codemirror_mode": {
    "name": "ipython",
    "version": 3
   },
   "file_extension": ".py",
   "mimetype": "text/x-python",
   "name": "python",
   "nbconvert_exporter": "python",
   "pygments_lexer": "ipython3",
   "version": "3.8.8"
  }
 },
 "nbformat": 4,
 "nbformat_minor": 5
}
